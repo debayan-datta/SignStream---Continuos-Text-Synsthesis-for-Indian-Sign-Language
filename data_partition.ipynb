{
 "cells": [
  {
   "cell_type": "markdown",
   "metadata": {},
   "source": [
    "## Data split for isign in Training-Validation and Testing and also take random sample of each"
   ]
  },
  {
   "cell_type": "code",
   "execution_count": 38,
   "metadata": {},
   "outputs": [],
   "source": [
    "import pandas as pd\n",
    "import numpy as np"
   ]
  },
  {
   "cell_type": "code",
   "execution_count": 45,
   "metadata": {},
   "outputs": [
    {
     "name": "stdout",
     "output_type": "stream",
     "text": [
      "127237\n"
     ]
    },
    {
     "data": {
      "text/html": [
       "<div>\n",
       "<style scoped>\n",
       "    .dataframe tbody tr th:only-of-type {\n",
       "        vertical-align: middle;\n",
       "    }\n",
       "\n",
       "    .dataframe tbody tr th {\n",
       "        vertical-align: top;\n",
       "    }\n",
       "\n",
       "    .dataframe thead th {\n",
       "        text-align: right;\n",
       "    }\n",
       "</style>\n",
       "<table border=\"1\" class=\"dataframe\">\n",
       "  <thead>\n",
       "    <tr style=\"text-align: right;\">\n",
       "      <th></th>\n",
       "      <th>uid</th>\n",
       "      <th>text</th>\n",
       "    </tr>\n",
       "  </thead>\n",
       "  <tbody>\n",
       "    <tr>\n",
       "      <th>0</th>\n",
       "      <td>1782bea75c7d-1</td>\n",
       "      <td>Page 111</td>\n",
       "    </tr>\n",
       "    <tr>\n",
       "      <th>1</th>\n",
       "      <td>1782bea75c7d-2</td>\n",
       "      <td>Make it shorter.</td>\n",
       "    </tr>\n",
       "    <tr>\n",
       "      <th>2</th>\n",
       "      <td>1782bea75c7d-3</td>\n",
       "      <td>One day, Akbar drew a line on the floor and or...</td>\n",
       "    </tr>\n",
       "    <tr>\n",
       "      <th>3</th>\n",
       "      <td>1782bea75c7d-4</td>\n",
       "      <td>Make this line shorter.</td>\n",
       "    </tr>\n",
       "    <tr>\n",
       "      <th>4</th>\n",
       "      <td>1782bea75c7d-5</td>\n",
       "      <td>but don't rub out any part of it.</td>\n",
       "    </tr>\n",
       "  </tbody>\n",
       "</table>\n",
       "</div>"
      ],
      "text/plain": [
       "              uid                                               text\n",
       "0  1782bea75c7d-1                                           Page 111\n",
       "1  1782bea75c7d-2                                   Make it shorter.\n",
       "2  1782bea75c7d-3  One day, Akbar drew a line on the floor and or...\n",
       "3  1782bea75c7d-4                            Make this line shorter.\n",
       "4  1782bea75c7d-5                  but don't rub out any part of it."
      ]
     },
     "execution_count": 45,
     "metadata": {},
     "output_type": "execute_result"
    }
   ],
   "source": [
    "isign = pd.read_csv(\"iSign_v1.1.csv\")\n",
    "print(len(isign))\n",
    "isign.head()"
   ]
  },
  {
   "cell_type": "code",
   "execution_count": 47,
   "metadata": {},
   "outputs": [
    {
     "name": "stdout",
     "output_type": "stream",
     "text": [
      "127237\n"
     ]
    },
    {
     "data": {
      "text/html": [
       "<div>\n",
       "<style scoped>\n",
       "    .dataframe tbody tr th:only-of-type {\n",
       "        vertical-align: middle;\n",
       "    }\n",
       "\n",
       "    .dataframe tbody tr th {\n",
       "        vertical-align: top;\n",
       "    }\n",
       "\n",
       "    .dataframe thead th {\n",
       "        text-align: right;\n",
       "    }\n",
       "</style>\n",
       "<table border=\"1\" class=\"dataframe\">\n",
       "  <thead>\n",
       "    <tr style=\"text-align: right;\">\n",
       "      <th></th>\n",
       "      <th>uid</th>\n",
       "      <th>text</th>\n",
       "    </tr>\n",
       "  </thead>\n",
       "  <tbody>\n",
       "    <tr>\n",
       "      <th>0</th>\n",
       "      <td>2PD6WQLA63s--23</td>\n",
       "      <td>He thought that once it shutdown, the girl wou...</td>\n",
       "    </tr>\n",
       "    <tr>\n",
       "      <th>1</th>\n",
       "      <td>QEU6biu1a4w--29</td>\n",
       "      <td>This story is not recent, but it repeatedly be...</td>\n",
       "    </tr>\n",
       "    <tr>\n",
       "      <th>2</th>\n",
       "      <td>006faf1f7c93-33</td>\n",
       "      <td>Here you can see a picture of kids riding vari...</td>\n",
       "    </tr>\n",
       "    <tr>\n",
       "      <th>3</th>\n",
       "      <td>zpPORpaGXKs--11</td>\n",
       "      <td>Also many airlines were suffering losses. This...</td>\n",
       "    </tr>\n",
       "    <tr>\n",
       "      <th>4</th>\n",
       "      <td>V9j19eiXyo4--34</td>\n",
       "      <td>Justice Abdul Quddhose of Madras High Court, r...</td>\n",
       "    </tr>\n",
       "  </tbody>\n",
       "</table>\n",
       "</div>"
      ],
      "text/plain": [
       "               uid                                               text\n",
       "0  2PD6WQLA63s--23  He thought that once it shutdown, the girl wou...\n",
       "1  QEU6biu1a4w--29  This story is not recent, but it repeatedly be...\n",
       "2  006faf1f7c93-33  Here you can see a picture of kids riding vari...\n",
       "3  zpPORpaGXKs--11  Also many airlines were suffering losses. This...\n",
       "4  V9j19eiXyo4--34  Justice Abdul Quddhose of Madras High Court, r..."
      ]
     },
     "execution_count": 47,
     "metadata": {},
     "output_type": "execute_result"
    }
   ],
   "source": [
    "# Shuffle the dataset\n",
    "isign = isign.sample(frac=1, random_state=42).reset_index(drop=True)\n",
    "print(len(isign))\n",
    "isign.head()"
   ]
  },
  {
   "cell_type": "markdown",
   "metadata": {},
   "source": [
    "<h3> <font color = 'yellow'> Data Preprocessing </font></h3>\n",
    "\n",
    "### Remove rows with Nan texts"
   ]
  },
  {
   "cell_type": "code",
   "execution_count": 48,
   "metadata": {},
   "outputs": [
    {
     "name": "stdout",
     "output_type": "stream",
     "text": [
      "\n",
      "Number of rows with NaN values in 'text': 391\n"
     ]
    }
   ],
   "source": [
    "# Filter rows with non-NaN texts\n",
    "non_nan_isign = isign[isign['text'].notna()]\n",
    "\n",
    "# Count rows with NaN values in the 'text' column\n",
    "nan_count = isign['text'].isna().sum()\n",
    "\n",
    "print(\"\\nNumber of rows with NaN values in 'text':\", nan_count)"
   ]
  },
  {
   "cell_type": "code",
   "execution_count": 49,
   "metadata": {},
   "outputs": [
    {
     "name": "stdout",
     "output_type": "stream",
     "text": [
      "126846\n"
     ]
    },
    {
     "data": {
      "text/html": [
       "<div>\n",
       "<style scoped>\n",
       "    .dataframe tbody tr th:only-of-type {\n",
       "        vertical-align: middle;\n",
       "    }\n",
       "\n",
       "    .dataframe tbody tr th {\n",
       "        vertical-align: top;\n",
       "    }\n",
       "\n",
       "    .dataframe thead th {\n",
       "        text-align: right;\n",
       "    }\n",
       "</style>\n",
       "<table border=\"1\" class=\"dataframe\">\n",
       "  <thead>\n",
       "    <tr style=\"text-align: right;\">\n",
       "      <th></th>\n",
       "      <th>uid</th>\n",
       "      <th>text</th>\n",
       "    </tr>\n",
       "  </thead>\n",
       "  <tbody>\n",
       "    <tr>\n",
       "      <th>0</th>\n",
       "      <td>2PD6WQLA63s--23</td>\n",
       "      <td>He thought that once it shutdown, the girl wou...</td>\n",
       "    </tr>\n",
       "    <tr>\n",
       "      <th>1</th>\n",
       "      <td>QEU6biu1a4w--29</td>\n",
       "      <td>This story is not recent, but it repeatedly be...</td>\n",
       "    </tr>\n",
       "    <tr>\n",
       "      <th>2</th>\n",
       "      <td>006faf1f7c93-33</td>\n",
       "      <td>Here you can see a picture of kids riding vari...</td>\n",
       "    </tr>\n",
       "    <tr>\n",
       "      <th>3</th>\n",
       "      <td>zpPORpaGXKs--11</td>\n",
       "      <td>Also many airlines were suffering losses. This...</td>\n",
       "    </tr>\n",
       "    <tr>\n",
       "      <th>4</th>\n",
       "      <td>V9j19eiXyo4--34</td>\n",
       "      <td>Justice Abdul Quddhose of Madras High Court, r...</td>\n",
       "    </tr>\n",
       "  </tbody>\n",
       "</table>\n",
       "</div>"
      ],
      "text/plain": [
       "               uid                                               text\n",
       "0  2PD6WQLA63s--23  He thought that once it shutdown, the girl wou...\n",
       "1  QEU6biu1a4w--29  This story is not recent, but it repeatedly be...\n",
       "2  006faf1f7c93-33  Here you can see a picture of kids riding vari...\n",
       "3  zpPORpaGXKs--11  Also many airlines were suffering losses. This...\n",
       "4  V9j19eiXyo4--34  Justice Abdul Quddhose of Madras High Court, r..."
      ]
     },
     "execution_count": 49,
     "metadata": {},
     "output_type": "execute_result"
    }
   ],
   "source": [
    "isign = non_nan_isign\n",
    "print(len(isign))\n",
    "isign.head()"
   ]
  },
  {
   "cell_type": "markdown",
   "metadata": {},
   "source": [
    "<h3> <font color = 'yellow'> Data split in Train-Validation-Test in 80-10-10% </font></h3>"
   ]
  },
  {
   "cell_type": "code",
   "execution_count": 50,
   "metadata": {},
   "outputs": [],
   "source": [
    "# Define the split ratios\n",
    "train_ratio = 0.8\n",
    "validation_ratio = 0.1\n",
    "test_ratio = 0.1\n",
    "\n",
    "# Calculate the indices for splits\n",
    "train_end = int(train_ratio * len(isign))\n",
    "validation_end = train_end + int(validation_ratio * len(isign))\n",
    "\n",
    "# Create the 'data_part' column based on the indices\n",
    "isign['data_part'] = ['Train']*train_end    +   ['Validation']*(validation_end - train_end)   +   ['Test']*(len(isign) - validation_end)\n",
    "\n",
    "# Shuffle the dataset again if needed\n",
    "isign = isign.sample(frac=1, random_state=42).reset_index(drop=True)"
   ]
  },
  {
   "cell_type": "code",
   "execution_count": 51,
   "metadata": {},
   "outputs": [
    {
     "name": "stdout",
     "output_type": "stream",
     "text": [
      "data_part\n",
      "Train         101476\n",
      "Test           12686\n",
      "Validation     12684\n",
      "Name: count, dtype: int64\n"
     ]
    },
    {
     "data": {
      "text/html": [
       "<div>\n",
       "<style scoped>\n",
       "    .dataframe tbody tr th:only-of-type {\n",
       "        vertical-align: middle;\n",
       "    }\n",
       "\n",
       "    .dataframe tbody tr th {\n",
       "        vertical-align: top;\n",
       "    }\n",
       "\n",
       "    .dataframe thead th {\n",
       "        text-align: right;\n",
       "    }\n",
       "</style>\n",
       "<table border=\"1\" class=\"dataframe\">\n",
       "  <thead>\n",
       "    <tr style=\"text-align: right;\">\n",
       "      <th></th>\n",
       "      <th>uid</th>\n",
       "      <th>text</th>\n",
       "      <th>data_part</th>\n",
       "    </tr>\n",
       "  </thead>\n",
       "  <tbody>\n",
       "    <tr>\n",
       "      <th>0</th>\n",
       "      <td>VqlfNumk0cg--220</td>\n",
       "      <td>colour 2</td>\n",
       "      <td>Train</td>\n",
       "    </tr>\n",
       "    <tr>\n",
       "      <th>1</th>\n",
       "      <td>3ab94767fe39-38</td>\n",
       "      <td>and talk about the picture.</td>\n",
       "      <td>Train</td>\n",
       "    </tr>\n",
       "    <tr>\n",
       "      <th>2</th>\n",
       "      <td>4ea55d87345a-172</td>\n",
       "      <td>Who am I?</td>\n",
       "      <td>Train</td>\n",
       "    </tr>\n",
       "    <tr>\n",
       "      <th>3</th>\n",
       "      <td>hM959_pXlrE--160</td>\n",
       "      <td>These ends are the poles of the magnet.</td>\n",
       "      <td>Validation</td>\n",
       "    </tr>\n",
       "    <tr>\n",
       "      <th>4</th>\n",
       "      <td>CO-cLZl36nI--101</td>\n",
       "      <td>2</td>\n",
       "      <td>Validation</td>\n",
       "    </tr>\n",
       "  </tbody>\n",
       "</table>\n",
       "</div>"
      ],
      "text/plain": [
       "                uid                                     text   data_part\n",
       "0  VqlfNumk0cg--220                                 colour 2       Train\n",
       "1   3ab94767fe39-38              and talk about the picture.       Train\n",
       "2  4ea55d87345a-172                                Who am I?       Train\n",
       "3  hM959_pXlrE--160  These ends are the poles of the magnet.  Validation\n",
       "4  CO-cLZl36nI--101                                        2  Validation"
      ]
     },
     "execution_count": 51,
     "metadata": {},
     "output_type": "execute_result"
    }
   ],
   "source": [
    "print(isign['data_part'].value_counts())\n",
    "isign.head()"
   ]
  },
  {
   "cell_type": "markdown",
   "metadata": {},
   "source": [
    "<h3> <font color = 'yellow'> Take 20% fraction of each Train-Validation-Test </font></h3>"
   ]
  },
  {
   "cell_type": "code",
   "execution_count": 52,
   "metadata": {},
   "outputs": [
    {
     "name": "stdout",
     "output_type": "stream",
     "text": [
      "data_part\n",
      "Train         20295\n",
      "Test           2537\n",
      "Validation     2537\n",
      "Name: count, dtype: int64\n"
     ]
    },
    {
     "data": {
      "text/html": [
       "<div>\n",
       "<style scoped>\n",
       "    .dataframe tbody tr th:only-of-type {\n",
       "        vertical-align: middle;\n",
       "    }\n",
       "\n",
       "    .dataframe tbody tr th {\n",
       "        vertical-align: top;\n",
       "    }\n",
       "\n",
       "    .dataframe thead th {\n",
       "        text-align: right;\n",
       "    }\n",
       "</style>\n",
       "<table border=\"1\" class=\"dataframe\">\n",
       "  <thead>\n",
       "    <tr style=\"text-align: right;\">\n",
       "      <th></th>\n",
       "      <th>uid</th>\n",
       "      <th>text</th>\n",
       "      <th>data_part</th>\n",
       "    </tr>\n",
       "  </thead>\n",
       "  <tbody>\n",
       "    <tr>\n",
       "      <th>0</th>\n",
       "      <td>nLG-B3e-pP0--48</td>\n",
       "      <td>See, to remove impurities or harmful components.</td>\n",
       "      <td>Train</td>\n",
       "    </tr>\n",
       "    <tr>\n",
       "      <th>1</th>\n",
       "      <td>OS0q5XwHSys--18</td>\n",
       "      <td>It says sexual act performed by a man on his o...</td>\n",
       "      <td>Train</td>\n",
       "    </tr>\n",
       "    <tr>\n",
       "      <th>2</th>\n",
       "      <td>s9bWguOVijc--23</td>\n",
       "      <td>Therefore, it wants the government officers to...</td>\n",
       "      <td>Train</td>\n",
       "    </tr>\n",
       "    <tr>\n",
       "      <th>3</th>\n",
       "      <td>xAZMH5dLB4k--16</td>\n",
       "      <td>He has to appear before the court &amp; come for q...</td>\n",
       "      <td>Test</td>\n",
       "    </tr>\n",
       "    <tr>\n",
       "      <th>4</th>\n",
       "      <td>u8XxXbHuYPM--9</td>\n",
       "      <td>The TADA court then sent him to jail. He remai...</td>\n",
       "      <td>Train</td>\n",
       "    </tr>\n",
       "  </tbody>\n",
       "</table>\n",
       "</div>"
      ],
      "text/plain": [
       "               uid                                               text  \\\n",
       "0  nLG-B3e-pP0--48   See, to remove impurities or harmful components.   \n",
       "1  OS0q5XwHSys--18  It says sexual act performed by a man on his o...   \n",
       "2  s9bWguOVijc--23  Therefore, it wants the government officers to...   \n",
       "3  xAZMH5dLB4k--16  He has to appear before the court & come for q...   \n",
       "4   u8XxXbHuYPM--9  The TADA court then sent him to jail. He remai...   \n",
       "\n",
       "  data_part  \n",
       "0     Train  \n",
       "1     Train  \n",
       "2     Train  \n",
       "3      Test  \n",
       "4     Train  "
      ]
     },
     "execution_count": 52,
     "metadata": {},
     "output_type": "execute_result"
    }
   ],
   "source": [
    "# Sample 20% from each subset (Train, Validation, Test)\n",
    "train_sample = isign[isign['data_part'] == 'Train'].sample(frac=0.2, random_state=42)\n",
    "validation_sample = isign[isign['data_part'] == 'Validation'].sample(frac=0.2, random_state=42)\n",
    "test_sample = isign[isign['data_part'] == 'Test'].sample(frac=0.2, random_state=42)\n",
    "\n",
    "# Concatenate the sampled dataframes\n",
    "sampled_data = pd.concat([train_sample, validation_sample, test_sample])\n",
    "\n",
    "# Shuffle the concatenated DataFrame\n",
    "sampled_data = sampled_data.sample(frac=1, random_state=42).reset_index(drop=True)\n",
    "\n",
    "# Check the new DataFrame\n",
    "print(sampled_data['data_part'].value_counts())\n",
    "sampled_data.head()"
   ]
  },
  {
   "cell_type": "code",
   "execution_count": 53,
   "metadata": {},
   "outputs": [
    {
     "name": "stdout",
     "output_type": "stream",
     "text": [
      "Data saved as isign_revised.csv\n"
     ]
    }
   ],
   "source": [
    "# Save the new DataFrame to a CSV file\n",
    "sampled_data.to_csv(\"isign_revised.csv\", index=False)\n",
    "\n",
    "print(\"Data saved as isign_revised.csv\")"
   ]
  }
 ],
 "metadata": {
  "kernelspec": {
   "display_name": "Python 3",
   "language": "python",
   "name": "python3"
  },
  "language_info": {
   "codemirror_mode": {
    "name": "ipython",
    "version": 3
   },
   "file_extension": ".py",
   "mimetype": "text/x-python",
   "name": "python",
   "nbconvert_exporter": "python",
   "pygments_lexer": "ipython3",
   "version": "3.10.12"
  }
 },
 "nbformat": 4,
 "nbformat_minor": 2
}
